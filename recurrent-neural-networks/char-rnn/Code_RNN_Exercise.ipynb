{
 "cells": [
  {
   "cell_type": "markdown",
   "metadata": {},
   "source": [
    "# Character-Level LSTM in PyTorch\n",
    "\n",
    "In this notebook, I'll construct a character-level LSTM with PyTorch. The network will train character by character on some text, then generate new text character by character. As an example, I will train on Anna Karenina. **This model will be able to generate new text based on the text from the book!**\n",
    "\n",
    "This network is based off of Andrej Karpathy's [post on RNNs](http://karpathy.github.io/2015/05/21/rnn-effectiveness/) and [implementation in Torch](https://github.com/karpathy/char-rnn). Below is the general architecture of the character-wise RNN.\n",
    "\n",
    "<img src=\"assets/charseq.jpeg\" width=\"500\">"
   ]
  },
  {
   "cell_type": "markdown",
   "metadata": {},
   "source": [
    "First let's load in our required resources for data loading and model creation."
   ]
  },
  {
   "cell_type": "code",
   "execution_count": 1,
   "metadata": {
    "collapsed": true
   },
   "outputs": [],
   "source": [
    "import numpy as np\n",
    "import torch\n",
    "from torch import nn\n",
    "import torch.nn.functional as F"
   ]
  },
  {
   "cell_type": "markdown",
   "metadata": {},
   "source": [
    "## Load in Data\n",
    "\n",
    "Then, we'll load the Anna Karenina text file and convert it into integers for our network to use. "
   ]
  },
  {
   "cell_type": "code",
   "execution_count": 2,
   "metadata": {
    "collapsed": true
   },
   "outputs": [],
   "source": [
    "# open text file and read in data as `text`\n",
    "with open('data/merged.cs.data', 'r') as f:\n",
    "    text = f.read()"
   ]
  },
  {
   "cell_type": "markdown",
   "metadata": {},
   "source": [
    "Let's check out the first 100 characters, make sure everything is peachy. According to the [American Book Review](http://americanbookreview.org/100bestlines.asp), this is the 6th best first line of a book ever."
   ]
  },
  {
   "cell_type": "code",
   "execution_count": 3,
   "metadata": {
    "collapsed": true
   },
   "outputs": [
    {
     "data": {
      "text/plain": [
       "'Chapter 1\\n\\n\\nHappy families are all alike; every unhappy family is unhappy in its own\\nway.\\n\\nEverythin'"
      ]
     },
     "execution_count": 3,
     "metadata": {},
     "output_type": "execute_result"
    }
   ],
   "source": [
    "text[:100]"
   ]
  },
  {
   "cell_type": "markdown",
   "metadata": {},
   "source": [
    "### Tokenization\n",
    "\n",
    "In the cells, below, I'm creating a couple of **dictionaries** to convert the characters to and from integers. Encoding the characters as integers makes it easier to use as input in the network."
   ]
  },
  {
   "cell_type": "code",
   "execution_count": 4,
   "metadata": {
    "collapsed": true
   },
   "outputs": [],
   "source": [
    "# encode the text and map each character to an integer and vice versa\n",
    "\n",
    "# we create two dictionaries:\n",
    "# 1. int2char, which maps integers to characters\n",
    "# 2. char2int, which maps characters to unique integers\n",
    "chars = tuple(set(text))\n",
    "int2char = dict(enumerate(chars))\n",
    "char2int = {ch: ii for ii, ch in int2char.items()}\n",
    "\n",
    "# encode the text\n",
    "encoded = np.array([char2int[ch] for ch in text])"
   ]
  },
  {
   "cell_type": "markdown",
   "metadata": {},
   "source": [
    "And we can see those same characters from above, encoded as integers."
   ]
  },
  {
   "cell_type": "code",
   "execution_count": 5,
   "metadata": {
    "collapsed": true
   },
   "outputs": [
    {
     "data": {
      "text/plain": [
       "array([64, 18, 55, 38, 60,  5, 58, 69, 77, 19, 19, 19, 81, 55, 38, 38, 28,\n",
       "       69, 65, 55, 23, 66, 42, 66,  5, 50, 69, 55, 58,  5, 69, 55, 42, 42,\n",
       "       69, 55, 42, 66, 22,  5, 71, 69,  5, 44,  5, 58, 28, 69, 56, 45, 18,\n",
       "       55, 38, 38, 28, 69, 65, 55, 23, 66, 42, 28, 69, 66, 50, 69, 56, 45,\n",
       "       18, 55, 38, 38, 28, 69, 66, 45, 69, 66, 60, 50, 69, 80,  3, 45, 19,\n",
       "        3, 55, 28, 35, 19, 19, 59, 44,  5, 58, 28, 60, 18, 66, 45])"
      ]
     },
     "execution_count": 5,
     "metadata": {},
     "output_type": "execute_result"
    }
   ],
   "source": [
    "encoded[:100]"
   ]
  },
  {
   "cell_type": "markdown",
   "metadata": {},
   "source": [
    "## Pre-processing the data\n",
    "\n",
    "As you can see in our char-RNN image above, our LSTM expects an input that is **one-hot encoded** meaning that each character is converted into an integer (via our created dictionary) and *then* converted into a column vector where only it's corresponding integer index will have the value of 1 and the rest of the vector will be filled with 0's. Since we're one-hot encoding the data, let's make a function to do that!\n"
   ]
  },
  {
   "cell_type": "code",
   "execution_count": 6,
   "metadata": {
    "collapsed": true
   },
   "outputs": [],
   "source": [
    "def one_hot_encode(arr, n_labels):\n",
    "    \n",
    "    # Initialize the encoded array\n",
    "    one_hot = np.zeros((arr.size, n_labels), dtype=np.float32)\n",
    "    \n",
    "    # Fill the appropriate elements with ones\n",
    "    one_hot[np.arange(one_hot.shape[0]), arr.flatten()] = 1.\n",
    "    \n",
    "    # Finally reshape it to get back to the original array\n",
    "    one_hot = one_hot.reshape((*arr.shape, n_labels))\n",
    "    \n",
    "    return one_hot"
   ]
  },
  {
   "cell_type": "code",
   "execution_count": 7,
   "metadata": {
    "collapsed": true
   },
   "outputs": [
    {
     "name": "stdout",
     "output_type": "stream",
     "text": [
      "[[[0. 0. 0. 1. 0. 0. 0. 0.]\n",
      "  [0. 0. 0. 0. 0. 1. 0. 0.]\n",
      "  [0. 1. 0. 0. 0. 0. 0. 0.]]]\n"
     ]
    }
   ],
   "source": [
    "# check that the function works as expected\n",
    "test_seq = np.array([[3, 5, 1]])\n",
    "one_hot = one_hot_encode(test_seq, 8)\n",
    "\n",
    "print(one_hot)"
   ]
  },
  {
   "cell_type": "markdown",
   "metadata": {},
   "source": [
    "## Making training mini-batches\n",
    "\n",
    "\n",
    "To train on this data, we also want to create mini-batches for training. Remember that we want our batches to be multiple sequences of some desired number of sequence steps. Considering a simple example, our batches would look like this:\n",
    "\n",
    "<img src=\"assets/sequence_batching@1x.png\" width=500px>\n",
    "\n",
    "\n",
    "<br>\n",
    "\n",
    "In this example, we'll take the encoded characters (passed in as the `arr` parameter) and split them into multiple sequences, given by `batch_size`. Each of our sequences will be `seq_length` long.\n",
    "\n",
    "### Creating Batches\n",
    "\n",
    "**1. The first thing we need to do is discard some of the text so we only have completely full mini-batches. **\n",
    "\n",
    "Each batch contains $N \\times M$ characters, where $N$ is the batch size (the number of sequences in a batch) and $M$ is the seq_length or number of time steps in a sequence. Then, to get the total number of batches, $K$, that we can make from the array `arr`, you divide the length of `arr` by the number of characters per batch. Once you know the number of batches, you can get the total number of characters to keep from `arr`, $N * M * K$.\n",
    "\n",
    "**2. After that, we need to split `arr` into $N$ batches. ** \n",
    "\n",
    "You can do this using `arr.reshape(size)` where `size` is a tuple containing the dimensions sizes of the reshaped array. We know we want $N$ sequences in a batch, so let's make that the size of the first dimension. For the second dimension, you can use `-1` as a placeholder in the size, it'll fill up the array with the appropriate data for you. After this, you should have an array that is $N \\times (M * K)$.\n",
    "\n",
    "**3. Now that we have this array, we can iterate through it to get our mini-batches. **\n",
    "\n",
    "The idea is each batch is a $N \\times M$ window on the $N \\times (M * K)$ array. For each subsequent batch, the window moves over by `seq_length`. We also want to create both the input and target arrays. Remember that the targets are just the inputs shifted over by one character. The way I like to do this window is use `range` to take steps of size `n_steps` from $0$ to `arr.shape[1]`, the total number of tokens in each sequence. That way, the integers you get from `range` always point to the start of a batch, and each window is `seq_length` wide.\n",
    "\n",
    "> **TODO:** Write the code for creating batches in the function below. The exercises in this notebook _will not be easy_. I've provided a notebook with solutions alongside this notebook. If you get stuck, checkout the solutions. The most important thing is that you don't copy and paste the code into here, **type out the solution code yourself.**"
   ]
  },
  {
   "cell_type": "code",
   "execution_count": 8,
   "metadata": {
    "collapsed": true
   },
   "outputs": [],
   "source": [
    "def get_batches(arr, batch_size, seq_length):\n",
    "    '''Create a generator that returns batches of size\n",
    "       batch_size x seq_length from arr.\n",
    "       \n",
    "       Arguments\n",
    "       ---------\n",
    "       arr: Array you want to make batches from\n",
    "       batch_size: Batch size, the number of sequences per batch\n",
    "       seq_length: Number of encoded chars in a sequence\n",
    "    '''\n",
    "    full_batch_size = batch_size * seq_length\n",
    "    ## TODO: Get the number of batches we can make\n",
    "    n_batches = len(arr) // full_batch_size\n",
    "    \n",
    "    ## TODO: Keep only enough characters to make full batches\n",
    "    arr = arr[:n_batches * full_batch_size]\n",
    "    \n",
    "    ## TODO: Reshape into batch_size rows\n",
    "    arr = arr.reshape((batch_size, -1))\n",
    "    \n",
    "    ## TODO: Iterate over the batches using a window of size seq_length\n",
    "    for n in range(0, arr.shape[1], seq_length):\n",
    "        # The features\n",
    "        x = arr[:, n:n+seq_length]\n",
    "        # The targets, shifted by one\n",
    "        y = np.zeros_like(x)\n",
    "        try:\n",
    "            y[:, :-1], y[:, -1] = x[:, 1:], arr[:, n+seq_length]\n",
    "        except IndexError:\n",
    "            y[:, :-1], y[:, -1] = x[:, 1:], arr[:, 0]\n",
    "        yield x, y"
   ]
  },
  {
   "cell_type": "markdown",
   "metadata": {},
   "source": [
    "### Test Your Implementation\n",
    "\n",
    "Now I'll make some data sets and we can check out what's going on as we batch data. Here, as an example, I'm going to use a batch size of 8 and 50 sequence steps."
   ]
  },
  {
   "cell_type": "code",
   "execution_count": 9,
   "metadata": {
    "collapsed": true
   },
   "outputs": [],
   "source": [
    "batches = get_batches(encoded, 8, 50)\n",
    "x, y = next(batches)"
   ]
  },
  {
   "cell_type": "code",
   "execution_count": 10,
   "metadata": {
    "collapsed": true
   },
   "outputs": [
    {
     "name": "stdout",
     "output_type": "stream",
     "text": [
      "x\n",
      " [[64 18 55 38 60  5 58 69 77 19]\n",
      " [50 80 45 69 60 18 55 60 69 55]\n",
      " [ 5 45  2 69 80 58 69 55 69 65]\n",
      " [50 69 60 18  5 69 70 18 66  5]\n",
      " [69 50 55  3 69 18  5 58 69 60]\n",
      " [70 56 50 50 66 80 45 69 55 45]\n",
      " [69 54 45 45 55 69 18 55  2 69]\n",
      " [20 11 42 80 45 50 22 28 35 69]]\n",
      "\n",
      "y\n",
      " [[18 55 38 60  5 58 69 77 19 19]\n",
      " [80 45 69 60 18 55 60 69 55 60]\n",
      " [45  2 69 80 58 69 55 69 65 80]\n",
      " [69 60 18  5 69 70 18 66  5 65]\n",
      " [50 55  3 69 18  5 58 69 60  5]\n",
      " [56 50 50 66 80 45 69 55 45  2]\n",
      " [54 45 45 55 69 18 55  2 69 50]\n",
      " [11 42 80 45 50 22 28 35 69 67]]\n"
     ]
    }
   ],
   "source": [
    "# printing out the first 10 items in a sequence\n",
    "print('x\\n', x[:10, :10])\n",
    "print('\\ny\\n', y[:10, :10])"
   ]
  },
  {
   "cell_type": "markdown",
   "metadata": {},
   "source": [
    "If you implemented `get_batches` correctly, the above output should look something like \n",
    "```\n",
    "x\n",
    " [[25  8 60 11 45 27 28 73  1  2]\n",
    " [17  7 20 73 45  8 60 45 73 60]\n",
    " [27 20 80 73  7 28 73 60 73 65]\n",
    " [17 73 45  8 27 73 66  8 46 27]\n",
    " [73 17 60 12 73  8 27 28 73 45]\n",
    " [66 64 17 17 46  7 20 73 60 20]\n",
    " [73 76 20 20 60 73  8 60 80 73]\n",
    " [47 35 43  7 20 17 24 50 37 73]]\n",
    "\n",
    "y\n",
    " [[ 8 60 11 45 27 28 73  1  2  2]\n",
    " [ 7 20 73 45  8 60 45 73 60 45]\n",
    " [20 80 73  7 28 73 60 73 65  7]\n",
    " [73 45  8 27 73 66  8 46 27 65]\n",
    " [17 60 12 73  8 27 28 73 45 27]\n",
    " [64 17 17 46  7 20 73 60 20 80]\n",
    " [76 20 20 60 73  8 60 80 73 17]\n",
    " [35 43  7 20 17 24 50 37 73 36]]\n",
    " ```\n",
    " although the exact numbers may be different. Check to make sure the data is shifted over one step for `y`."
   ]
  },
  {
   "cell_type": "markdown",
   "metadata": {},
   "source": [
    "---\n",
    "## Defining the network with PyTorch\n",
    "\n",
    "Below is where you'll define the network.\n",
    "\n",
    "<img src=\"assets/charRNN.png\" width=500px>\n",
    "\n",
    "Next, you'll use PyTorch to define the architecture of the network. We start by defining the layers and operations we want. Then, define a method for the forward pass. You've also been given a method for predicting characters."
   ]
  },
  {
   "cell_type": "markdown",
   "metadata": {},
   "source": [
    "### Model Structure\n",
    "\n",
    "In `__init__` the suggested structure is as follows:\n",
    "* Create and store the necessary dictionaries (this has been done for you)\n",
    "* Define an LSTM layer that takes as params: an input size (the number of characters), a hidden layer size `n_hidden`, a number of layers `n_layers`, a dropout probability `drop_prob`, and a batch_first boolean (True, since we are batching)\n",
    "* Define a dropout layer with `drop_prob`\n",
    "* Define a fully-connected layer with params: input size `n_hidden` and output size (the number of characters)\n",
    "* Finally, initialize the weights (again, this has been given)\n",
    "\n",
    "Note that some parameters have been named and given in the `__init__` function, and we use them and store them by doing something like `self.drop_prob = drop_prob`."
   ]
  },
  {
   "cell_type": "markdown",
   "metadata": {},
   "source": [
    "---\n",
    "### LSTM Inputs/Outputs\n",
    "\n",
    "You can create a basic [LSTM layer](https://pytorch.org/docs/stable/nn.html#lstm) as follows\n",
    "\n",
    "```python\n",
    "self.lstm = nn.LSTM(input_size, n_hidden, n_layers, \n",
    "                            dropout=drop_prob, batch_first=True)\n",
    "```\n",
    "\n",
    "where `input_size` is the number of characters this cell expects to see as sequential input, and `n_hidden` is the number of units in the hidden layers in the cell. And we can add dropout by adding a dropout parameter with a specified probability; this will automatically add dropout to the inputs or outputs. Finally, in the `forward` function, we can stack up the LSTM cells into layers using `.view`. With this, you pass in a list of cells and it will send the output of one cell into the next cell.\n",
    "\n",
    "We also need to create an initial hidden state of all zeros. This is done like so\n",
    "\n",
    "```python\n",
    "self.init_hidden()\n",
    "```"
   ]
  },
  {
   "cell_type": "code",
   "execution_count": 11,
   "metadata": {
    "collapsed": true
   },
   "outputs": [
    {
     "name": "stdout",
     "output_type": "stream",
     "text": [
      "No GPU available, training on CPU; consider making n_epochs very small.\n"
     ]
    }
   ],
   "source": [
    "# check if GPU is available\n",
    "train_on_gpu = torch.cuda.is_available()\n",
    "if(train_on_gpu):\n",
    "    print('Training on GPU!')\n",
    "else: \n",
    "    print('No GPU available, training on CPU; consider making n_epochs very small.')"
   ]
  },
  {
   "cell_type": "code",
   "execution_count": 12,
   "metadata": {
    "collapsed": true
   },
   "outputs": [],
   "source": [
    "class CharRNN(nn.Module):\n",
    "    \n",
    "    def __init__(self, tokens, n_hidden=256, n_layers=2,\n",
    "                               drop_prob=0.5, lr=0.001):\n",
    "        super().__init__()\n",
    "        self.drop_prob = drop_prob\n",
    "        self.n_layers = n_layers\n",
    "        self.n_hidden = n_hidden\n",
    "        self.lr = lr\n",
    "        \n",
    "        # creating character dictionaries\n",
    "        self.chars = tokens\n",
    "        self.int2char = dict(enumerate(self.chars))\n",
    "        self.char2int = {ch: ii for ii, ch in self.int2char.items()}\n",
    "        \n",
    "        ## TODO: define the layers of the model\n",
    "        self.lstm = nn.LSTM(len(tokens), n_hidden, n_layers, \n",
    "                            dropout=drop_prob, batch_first=True)\n",
    "        self.squash = nn.Flatten(0,1)\n",
    "        self.fc = nn.Linear(n_hidden, len(self.chars))\n",
    "    \n",
    "    def forward(self, x, hidden):\n",
    "        ''' Forward pass through the network. \n",
    "            These inputs are x, and the hidden/cell state `hidden`. '''\n",
    "                \n",
    "        ## TODO: Get the outputs and the new hidden state from the lstm\n",
    "        xx, hidden = self.lstm(x, hidden)\n",
    "        xx = self.squash(xx)\n",
    "        out = self.fc(xx)\n",
    "        # return the final output and the hidden state\n",
    "        return out, hidden\n",
    "    \n",
    "    \n",
    "    def init_hidden(self, batch_size):\n",
    "        ''' Initializes hidden state '''\n",
    "        # Create two new tensors with sizes n_layers x batch_size x n_hidden,\n",
    "        # initialized to zero, for hidden state and cell state of LSTM\n",
    "        weight = next(self.parameters()).data\n",
    "        \n",
    "        if (train_on_gpu):\n",
    "            hidden = (weight.new(self.n_layers, batch_size, self.n_hidden).zero_().cuda(),\n",
    "                  weight.new(self.n_layers, batch_size, self.n_hidden).zero_().cuda())\n",
    "        else:\n",
    "            hidden = (weight.new(self.n_layers, batch_size, self.n_hidden).zero_(),\n",
    "                      weight.new(self.n_layers, batch_size, self.n_hidden).zero_())\n",
    "        \n",
    "        return hidden\n",
    "        "
   ]
  },
  {
   "cell_type": "code",
   "execution_count": 13,
   "metadata": {},
   "outputs": [
    {
     "data": {
      "text/plain": [
       "torch.Size([12800, 83])"
      ]
     },
     "execution_count": 13,
     "metadata": {},
     "output_type": "execute_result"
    }
   ],
   "source": [
    "net = CharRNN(chars, 512, 2)\n",
    "batch_size = 128\n",
    "h = net.init_hidden(batch_size)\n",
    "x = torch.rand((128, 100, 83))\n",
    "y, yh = net(x, h)\n",
    "y.shape"
   ]
  },
  {
   "cell_type": "markdown",
   "metadata": {},
   "source": [
    "## Time to train\n",
    "\n",
    "The train function gives us the ability to set the number of epochs, the learning rate, and other parameters.\n",
    "\n",
    "Below we're using an Adam optimizer and cross entropy loss since we are looking at character class scores as output. We calculate the loss and perform backpropagation, as usual!\n",
    "\n",
    "A couple of details about training: \n",
    ">* Within the batch loop, we detach the hidden state from its history; this time setting it equal to a new *tuple* variable because an LSTM has a hidden state that is a tuple of the hidden and cell states.\n",
    "* We use [`clip_grad_norm_`](https://pytorch.org/docs/stable/_modules/torch/nn/utils/clip_grad.html) to help prevent exploding gradients."
   ]
  },
  {
   "cell_type": "code",
   "execution_count": 14,
   "metadata": {
    "collapsed": true
   },
   "outputs": [],
   "source": [
    "def train(net, data, epochs=10, batch_size=10, seq_length=50, lr=0.001, clip=5, val_frac=0.1, print_every=10):\n",
    "    ''' Training a network \n",
    "    \n",
    "        Arguments\n",
    "        ---------\n",
    "        \n",
    "        net: CharRNN network\n",
    "        data: text data to train the network\n",
    "        epochs: Number of epochs to train\n",
    "        batch_size: Number of mini-sequences per mini-batch, aka batch size\n",
    "        seq_length: Number of character steps per mini-batch\n",
    "        lr: learning rate\n",
    "        clip: gradient clipping\n",
    "        val_frac: Fraction of data to hold out for validation\n",
    "        print_every: Number of steps for printing training and validation loss\n",
    "    \n",
    "    '''\n",
    "    net.train()\n",
    "    \n",
    "    opt = torch.optim.Adam(net.parameters(), lr=lr)\n",
    "    criterion = nn.CrossEntropyLoss()\n",
    "    \n",
    "    # create training and validation data\n",
    "    val_idx = int(len(data)*(1-val_frac))\n",
    "    data, val_data = data[:val_idx], data[val_idx:]\n",
    "    \n",
    "    if(train_on_gpu):\n",
    "        net.cuda()\n",
    "    \n",
    "    counter = 0\n",
    "    n_chars = len(net.chars)\n",
    "    for e in range(epochs):\n",
    "        # initialize hidden state\n",
    "        h = net.init_hidden(batch_size)\n",
    "        \n",
    "        for x, y in get_batches(data, batch_size, seq_length):\n",
    "            counter += 1\n",
    "            \n",
    "            # One-hot encode our data and make them Torch tensors\n",
    "            x = one_hot_encode(x, n_chars)\n",
    "            inputs, targets = torch.from_numpy(x), torch.from_numpy(y)\n",
    "            # inputs.shape = torch.Size([139, 100, 83])\n",
    "            if(train_on_gpu):\n",
    "                inputs, targets = inputs.cuda(), targets.cuda()\n",
    "\n",
    "            # Creating new variables for the hidden state, otherwise\n",
    "            # we'd backprop through the entire training history\n",
    "            h = tuple([each.data for each in h])\n",
    "\n",
    "            # zero accumulated gradients\n",
    "            net.zero_grad()\n",
    "            \n",
    "            # get the output from the model\n",
    "            output, h = net(inputs, h)\n",
    "            \n",
    "            # calculate the loss and perform backprop\n",
    "            loss = criterion(output, targets.view(batch_size*seq_length).long())\n",
    "            loss.backward()\n",
    "            # `clip_grad_norm` helps prevent the exploding gradient problem in RNNs / LSTMs.\n",
    "            nn.utils.clip_grad_norm_(net.parameters(), clip)\n",
    "            opt.step()\n",
    "            \n",
    "            # loss stats\n",
    "            if counter % print_every == 0:\n",
    "                # Get validation loss\n",
    "                val_h = net.init_hidden(batch_size)\n",
    "                val_losses = []\n",
    "                net.eval()\n",
    "                for x, y in get_batches(val_data, batch_size, seq_length):\n",
    "                    # One-hot encode our data and make them Torch tensors\n",
    "                    x = one_hot_encode(x, n_chars)\n",
    "                    x, y = torch.from_numpy(x), torch.from_numpy(y)\n",
    "                    \n",
    "                    # Creating new variables for the hidden state, otherwise\n",
    "                    # we'd backprop through the entire training history\n",
    "                    val_h = tuple([each.data for each in val_h])\n",
    "                    \n",
    "                    inputs, targets = x, y\n",
    "                    if(train_on_gpu):\n",
    "                        inputs, targets = inputs.cuda(), targets.cuda()\n",
    "\n",
    "                    output, val_h = net(inputs, val_h)\n",
    "                    val_loss = criterion(output, targets.view(batch_size*seq_length).long())\n",
    "                \n",
    "                    val_losses.append(val_loss.item())\n",
    "                \n",
    "                net.train() # reset to train mode after iterationg through validation data\n",
    "                \n",
    "                print(\"Epoch: {}/{}...\".format(e+1, epochs),\n",
    "                      \"Step: {}...\".format(counter),\n",
    "                      \"Loss: {:.4f}...\".format(loss.item()),\n",
    "                      \"Val Loss: {:.4f}\".format(np.mean(val_losses)))"
   ]
  },
  {
   "cell_type": "markdown",
   "metadata": {},
   "source": [
    "## Instantiating the model\n",
    "\n",
    "Now we can actually train the network. First we'll create the network itself, with some given hyperparameters. Then, define the mini-batches sizes, and start training!"
   ]
  },
  {
   "cell_type": "code",
   "execution_count": 15,
   "metadata": {
    "collapsed": true
   },
   "outputs": [
    {
     "name": "stdout",
     "output_type": "stream",
     "text": [
      "CharRNN(\n",
      "  (lstm): LSTM(83, 512, num_layers=2, batch_first=True, dropout=0.5)\n",
      "  (squash): Flatten(start_dim=0, end_dim=1)\n",
      "  (fc): Linear(in_features=512, out_features=83, bias=True)\n",
      ")\n"
     ]
    }
   ],
   "source": [
    "## TODO: set your model hyperparameters\n",
    "# define and print the net\n",
    "n_hidden=512\n",
    "n_layers=2\n",
    "\n",
    "net = CharRNN(chars, n_hidden, n_layers)\n",
    "print(net)"
   ]
  },
  {
   "cell_type": "markdown",
   "metadata": {},
   "source": [
    "### Set your training hyperparameters!"
   ]
  },
  {
   "cell_type": "code",
   "execution_count": 23,
   "metadata": {
    "collapsed": true,
    "scrolled": true
   },
   "outputs": [
    {
     "name": "stdout",
     "output_type": "stream",
     "text": [
      "Epoch: 1/20... Step: 10... Loss: 1.2047... Val Loss: 1.3126\n",
      "Epoch: 1/20... Step: 20... Loss: 1.2123... Val Loss: 1.3093\n",
      "Epoch: 1/20... Step: 30... Loss: 1.2061... Val Loss: 1.3045\n",
      "Epoch: 1/20... Step: 40... Loss: 1.1731... Val Loss: 1.3063\n",
      "Epoch: 1/20... Step: 50... Loss: 1.1834... Val Loss: 1.3116\n",
      "Epoch: 1/20... Step: 60... Loss: 1.1256... Val Loss: 1.3072\n",
      "Epoch: 1/20... Step: 70... Loss: 1.1465... Val Loss: 1.3046\n",
      "Epoch: 1/20... Step: 80... Loss: 1.1385... Val Loss: 1.3053\n",
      "Epoch: 1/20... Step: 90... Loss: 1.1671... Val Loss: 1.3080\n",
      "Epoch: 1/20... Step: 100... Loss: 1.1488... Val Loss: 1.3029\n",
      "Epoch: 1/20... Step: 110... Loss: 1.1477... Val Loss: 1.3063\n",
      "Epoch: 1/20... Step: 120... Loss: 1.1357... Val Loss: 1.3021\n",
      "Epoch: 1/20... Step: 130... Loss: 1.1646... Val Loss: 1.3060\n",
      "Epoch: 2/20... Step: 140... Loss: 1.1925... Val Loss: 1.2998\n",
      "Epoch: 2/20... Step: 150... Loss: 1.1635... Val Loss: 1.3020\n",
      "Epoch: 2/20... Step: 160... Loss: 1.1771... Val Loss: 1.2987\n",
      "Epoch: 2/20... Step: 170... Loss: 1.1775... Val Loss: 1.2977\n",
      "Epoch: 2/20... Step: 180... Loss: 1.1432... Val Loss: 1.2996\n",
      "Epoch: 2/20... Step: 190... Loss: 1.1205... Val Loss: 1.3097\n",
      "Epoch: 2/20... Step: 200... Loss: 1.1162... Val Loss: 1.2972\n",
      "Epoch: 2/20... Step: 210... Loss: 1.1440... Val Loss: 1.2999\n",
      "Epoch: 2/20... Step: 220... Loss: 1.1345... Val Loss: 1.2976\n",
      "Epoch: 2/20... Step: 230... Loss: 1.1237... Val Loss: 1.3040\n",
      "Epoch: 2/20... Step: 240... Loss: 1.1602... Val Loss: 1.2950\n",
      "Epoch: 2/20... Step: 250... Loss: 1.1348... Val Loss: 1.2975\n",
      "Epoch: 2/20... Step: 260... Loss: 1.1208... Val Loss: 1.2954\n",
      "Epoch: 2/20... Step: 270... Loss: 1.1744... Val Loss: 1.2986\n",
      "Epoch: 3/20... Step: 280... Loss: 1.1332... Val Loss: 1.2925\n",
      "Epoch: 3/20... Step: 290... Loss: 1.1478... Val Loss: 1.2962\n",
      "Epoch: 3/20... Step: 300... Loss: 1.1336... Val Loss: 1.2931\n",
      "Epoch: 3/20... Step: 310... Loss: 1.1266... Val Loss: 1.2919\n",
      "Epoch: 3/20... Step: 320... Loss: 1.1091... Val Loss: 1.2960\n",
      "Epoch: 3/20... Step: 330... Loss: 1.1209... Val Loss: 1.3012\n",
      "Epoch: 3/20... Step: 340... Loss: 1.1532... Val Loss: 1.2957\n",
      "Epoch: 3/20... Step: 350... Loss: 1.1294... Val Loss: 1.2984\n",
      "Epoch: 3/20... Step: 360... Loss: 1.1046... Val Loss: 1.3025\n",
      "Epoch: 3/20... Step: 370... Loss: 1.1256... Val Loss: 1.3015\n",
      "Epoch: 3/20... Step: 380... Loss: 1.1508... Val Loss: 1.2902\n",
      "Epoch: 3/20... Step: 390... Loss: 1.1221... Val Loss: 1.2943\n",
      "Epoch: 3/20... Step: 400... Loss: 1.1143... Val Loss: 1.2970\n",
      "Epoch: 3/20... Step: 410... Loss: 1.1324... Val Loss: 1.2947\n",
      "Epoch: 4/20... Step: 420... Loss: 1.1387... Val Loss: 1.2881\n",
      "Epoch: 4/20... Step: 430... Loss: 1.1178... Val Loss: 1.2932\n",
      "Epoch: 4/20... Step: 440... Loss: 1.1454... Val Loss: 1.2915\n",
      "Epoch: 4/20... Step: 450... Loss: 1.1021... Val Loss: 1.2948\n",
      "Epoch: 4/20... Step: 460... Loss: 1.0816... Val Loss: 1.3001\n",
      "Epoch: 4/20... Step: 470... Loss: 1.1316... Val Loss: 1.3010\n",
      "Epoch: 4/20... Step: 480... Loss: 1.1519... Val Loss: 1.2996\n",
      "Epoch: 4/20... Step: 490... Loss: 1.1275... Val Loss: 1.2963\n",
      "Epoch: 4/20... Step: 500... Loss: 1.1463... Val Loss: 1.2994\n",
      "Epoch: 4/20... Step: 510... Loss: 1.1219... Val Loss: 1.2971\n",
      "Epoch: 4/20... Step: 520... Loss: 1.1162... Val Loss: 1.2857\n",
      "Epoch: 4/20... Step: 530... Loss: 1.1238... Val Loss: 1.2949\n",
      "Epoch: 4/20... Step: 540... Loss: 1.1010... Val Loss: 1.2937\n",
      "Epoch: 4/20... Step: 550... Loss: 1.1582... Val Loss: 1.2904\n",
      "Epoch: 5/20... Step: 560... Loss: 1.1238... Val Loss: 1.2863\n",
      "Epoch: 5/20... Step: 570... Loss: 1.1162... Val Loss: 1.2883\n",
      "Epoch: 5/20... Step: 580... Loss: 1.1200... Val Loss: 1.2873\n",
      "Epoch: 5/20... Step: 590... Loss: 1.1128... Val Loss: 1.2903\n",
      "Epoch: 5/20... Step: 600... Loss: 1.1142... Val Loss: 1.2936\n",
      "Epoch: 5/20... Step: 610... Loss: 1.0936... Val Loss: 1.2946\n",
      "Epoch: 5/20... Step: 620... Loss: 1.1189... Val Loss: 1.2924\n",
      "Epoch: 5/20... Step: 630... Loss: 1.1262... Val Loss: 1.2911\n",
      "Epoch: 5/20... Step: 640... Loss: 1.1126... Val Loss: 1.2905\n",
      "Epoch: 5/20... Step: 650... Loss: 1.1240... Val Loss: 1.2954\n",
      "Epoch: 5/20... Step: 660... Loss: 1.0985... Val Loss: 1.2843\n",
      "Epoch: 5/20... Step: 670... Loss: 1.1149... Val Loss: 1.2928\n",
      "Epoch: 5/20... Step: 680... Loss: 1.1267... Val Loss: 1.2948\n",
      "Epoch: 5/20... Step: 690... Loss: 1.1239... Val Loss: 1.2901\n",
      "Epoch: 6/20... Step: 700... Loss: 1.1205... Val Loss: 1.2853\n",
      "Epoch: 6/20... Step: 710... Loss: 1.1039... Val Loss: 1.2815\n",
      "Epoch: 6/20... Step: 720... Loss: 1.1073... Val Loss: 1.2836\n",
      "Epoch: 6/20... Step: 730... Loss: 1.1197... Val Loss: 1.2873\n",
      "Epoch: 6/20... Step: 740... Loss: 1.0888... Val Loss: 1.2929\n",
      "Epoch: 6/20... Step: 750... Loss: 1.1075... Val Loss: 1.2925\n",
      "Epoch: 6/20... Step: 760... Loss: 1.1290... Val Loss: 1.2885\n",
      "Epoch: 6/20... Step: 770... Loss: 1.1028... Val Loss: 1.2887\n",
      "Epoch: 6/20... Step: 780... Loss: 1.1078... Val Loss: 1.2899\n",
      "Epoch: 6/20... Step: 790... Loss: 1.0969... Val Loss: 1.2931\n",
      "Epoch: 6/20... Step: 800... Loss: 1.1104... Val Loss: 1.2859\n",
      "Epoch: 6/20... Step: 810... Loss: 1.1093... Val Loss: 1.2913\n",
      "Epoch: 6/20... Step: 820... Loss: 1.0651... Val Loss: 1.2916\n",
      "Epoch: 6/20... Step: 830... Loss: 1.1029... Val Loss: 1.2850\n",
      "Epoch: 7/20... Step: 840... Loss: 1.0948... Val Loss: 1.2862\n",
      "Epoch: 7/20... Step: 850... Loss: 1.0919... Val Loss: 1.2860\n",
      "Epoch: 7/20... Step: 860... Loss: 1.0794... Val Loss: 1.2860\n",
      "Epoch: 7/20... Step: 870... Loss: 1.1013... Val Loss: 1.2903\n",
      "Epoch: 7/20... Step: 880... Loss: 1.0973... Val Loss: 1.2847\n",
      "Epoch: 7/20... Step: 890... Loss: 1.1115... Val Loss: 1.2868\n",
      "Epoch: 7/20... Step: 900... Loss: 1.1129... Val Loss: 1.2872\n",
      "Epoch: 7/20... Step: 910... Loss: 1.0745... Val Loss: 1.2870\n",
      "Epoch: 7/20... Step: 920... Loss: 1.0986... Val Loss: 1.2860\n",
      "Epoch: 7/20... Step: 930... Loss: 1.0938... Val Loss: 1.2875\n",
      "Epoch: 7/20... Step: 940... Loss: 1.0807... Val Loss: 1.2820\n",
      "Epoch: 7/20... Step: 950... Loss: 1.0935... Val Loss: 1.2829\n",
      "Epoch: 7/20... Step: 960... Loss: 1.0991... Val Loss: 1.2840\n",
      "Epoch: 7/20... Step: 970... Loss: 1.1064... Val Loss: 1.2808\n",
      "Epoch: 8/20... Step: 980... Loss: 1.0724... Val Loss: 1.2838\n",
      "Epoch: 8/20... Step: 990... Loss: 1.0936... Val Loss: 1.2843\n",
      "Epoch: 8/20... Step: 1000... Loss: 1.0864... Val Loss: 1.2827\n",
      "Epoch: 8/20... Step: 1010... Loss: 1.1113... Val Loss: 1.2873\n",
      "Epoch: 8/20... Step: 1020... Loss: 1.1007... Val Loss: 1.2869\n",
      "Epoch: 8/20... Step: 1030... Loss: 1.0900... Val Loss: 1.2855\n",
      "Epoch: 8/20... Step: 1040... Loss: 1.0977... Val Loss: 1.2867\n",
      "Epoch: 8/20... Step: 1050... Loss: 1.0886... Val Loss: 1.2934\n",
      "Epoch: 8/20... Step: 1060... Loss: 1.0826... Val Loss: 1.2853\n",
      "Epoch: 8/20... Step: 1070... Loss: 1.0845... Val Loss: 1.2897\n",
      "Epoch: 8/20... Step: 1080... Loss: 1.0865... Val Loss: 1.2883\n",
      "Epoch: 8/20... Step: 1090... Loss: 1.0858... Val Loss: 1.2835\n",
      "Epoch: 8/20... Step: 1100... Loss: 1.0713... Val Loss: 1.2834\n",
      "Epoch: 8/20... Step: 1110... Loss: 1.0717... Val Loss: 1.2800\n",
      "Epoch: 9/20... Step: 1120... Loss: 1.0814... Val Loss: 1.2762\n",
      "Epoch: 9/20... Step: 1130... Loss: 1.0979... Val Loss: 1.2776\n",
      "Epoch: 9/20... Step: 1140... Loss: 1.0912... Val Loss: 1.2848\n",
      "Epoch: 9/20... Step: 1150... Loss: 1.1082... Val Loss: 1.2803\n",
      "Epoch: 9/20... Step: 1160... Loss: 1.0765... Val Loss: 1.2809\n",
      "Epoch: 9/20... Step: 1170... Loss: 1.0917... Val Loss: 1.2811\n",
      "Epoch: 9/20... Step: 1180... Loss: 1.0709... Val Loss: 1.2807\n",
      "Epoch: 9/20... Step: 1190... Loss: 1.0943... Val Loss: 1.2833\n",
      "Epoch: 9/20... Step: 1200... Loss: 1.0806... Val Loss: 1.2799\n",
      "Epoch: 9/20... Step: 1210... Loss: 1.0748... Val Loss: 1.2812\n",
      "Epoch: 9/20... Step: 1220... Loss: 1.0735... Val Loss: 1.2778\n",
      "Epoch: 9/20... Step: 1230... Loss: 1.0607... Val Loss: 1.2752\n",
      "Epoch: 9/20... Step: 1240... Loss: 1.0683... Val Loss: 1.2753\n",
      "Epoch: 9/20... Step: 1250... Loss: 1.0865... Val Loss: 1.2766\n",
      "Epoch: 10/20... Step: 1260... Loss: 1.0732... Val Loss: 1.2766\n",
      "Epoch: 10/20... Step: 1270... Loss: 1.0816... Val Loss: 1.2743\n",
      "Epoch: 10/20... Step: 1280... Loss: 1.0937... Val Loss: 1.2819\n",
      "Epoch: 10/20... Step: 1290... Loss: 1.0831... Val Loss: 1.2762\n",
      "Epoch: 10/20... Step: 1300... Loss: 1.0726... Val Loss: 1.2849\n",
      "Epoch: 10/20... Step: 1310... Loss: 1.0742... Val Loss: 1.2796\n",
      "Epoch: 10/20... Step: 1320... Loss: 1.0591... Val Loss: 1.2780\n",
      "Epoch: 10/20... Step: 1330... Loss: 1.0516... Val Loss: 1.2859\n",
      "Epoch: 10/20... Step: 1340... Loss: 1.0503... Val Loss: 1.2826\n",
      "Epoch: 10/20... Step: 1350... Loss: 1.0486... Val Loss: 1.2751\n",
      "Epoch: 10/20... Step: 1360... Loss: 1.0528... Val Loss: 1.2812\n",
      "Epoch: 10/20... Step: 1370... Loss: 1.0454... Val Loss: 1.2729\n",
      "Epoch: 10/20... Step: 1380... Loss: 1.0854... Val Loss: 1.2780\n",
      "Epoch: 10/20... Step: 1390... Loss: 1.1183... Val Loss: 1.2777\n",
      "Epoch: 11/20... Step: 1400... Loss: 1.0861... Val Loss: 1.2740\n",
      "Epoch: 11/20... Step: 1410... Loss: 1.1025... Val Loss: 1.2725\n",
      "Epoch: 11/20... Step: 1420... Loss: 1.0971... Val Loss: 1.2731\n",
      "Epoch: 11/20... Step: 1430... Loss: 1.0785... Val Loss: 1.2777\n",
      "Epoch: 11/20... Step: 1440... Loss: 1.0718... Val Loss: 1.2823\n",
      "Epoch: 11/20... Step: 1450... Loss: 1.0386... Val Loss: 1.2730\n",
      "Epoch: 11/20... Step: 1460... Loss: 1.0497... Val Loss: 1.2713\n",
      "Epoch: 11/20... Step: 1470... Loss: 1.0305... Val Loss: 1.2735\n",
      "Epoch: 11/20... Step: 1480... Loss: 1.0586... Val Loss: 1.2715\n",
      "Epoch: 11/20... Step: 1490... Loss: 1.0434... Val Loss: 1.2665\n",
      "Epoch: 11/20... Step: 1500... Loss: 1.0402... Val Loss: 1.2691\n",
      "Epoch: 11/20... Step: 1510... Loss: 1.0331... Val Loss: 1.2666\n",
      "Epoch: 11/20... Step: 1520... Loss: 1.0582... Val Loss: 1.2702\n"
     ]
    },
    {
     "ename": "KeyboardInterrupt",
     "evalue": "",
     "output_type": "error",
     "traceback": [
      "\u001b[1;31m---------------------------------------------------------------------------\u001b[0m",
      "\u001b[1;31mKeyboardInterrupt\u001b[0m                         Traceback (most recent call last)",
      "Cell \u001b[1;32mIn[23], line 6\u001b[0m\n\u001b[0;32m      3\u001b[0m n_epochs \u001b[39m=\u001b[39m \u001b[39m20\u001b[39m \u001b[39m# start small if you are just testing initial behavior\u001b[39;00m\n\u001b[0;32m      5\u001b[0m \u001b[39m# train the model\u001b[39;00m\n\u001b[1;32m----> 6\u001b[0m train(net, encoded, epochs\u001b[39m=\u001b[39;49mn_epochs, batch_size\u001b[39m=\u001b[39;49mbatch_size, seq_length\u001b[39m=\u001b[39;49mseq_length, lr\u001b[39m=\u001b[39;49m\u001b[39m0.001\u001b[39;49m, print_every\u001b[39m=\u001b[39;49m\u001b[39m10\u001b[39;49m)\n",
      "Cell \u001b[1;32mIn[14], line 58\u001b[0m, in \u001b[0;36mtrain\u001b[1;34m(net, data, epochs, batch_size, seq_length, lr, clip, val_frac, print_every)\u001b[0m\n\u001b[0;32m     56\u001b[0m \u001b[39m# calculate the loss and perform backprop\u001b[39;00m\n\u001b[0;32m     57\u001b[0m loss \u001b[39m=\u001b[39m criterion(output, targets\u001b[39m.\u001b[39mview(batch_size\u001b[39m*\u001b[39mseq_length)\u001b[39m.\u001b[39mlong())\n\u001b[1;32m---> 58\u001b[0m loss\u001b[39m.\u001b[39;49mbackward()\n\u001b[0;32m     59\u001b[0m \u001b[39m# `clip_grad_norm` helps prevent the exploding gradient problem in RNNs / LSTMs.\u001b[39;00m\n\u001b[0;32m     60\u001b[0m nn\u001b[39m.\u001b[39mutils\u001b[39m.\u001b[39mclip_grad_norm_(net\u001b[39m.\u001b[39mparameters(), clip)\n",
      "File \u001b[1;32mc:\\code\\deep-learning-v2-pytorch\\.venv\\lib\\site-packages\\torch\\_tensor.py:488\u001b[0m, in \u001b[0;36mTensor.backward\u001b[1;34m(self, gradient, retain_graph, create_graph, inputs)\u001b[0m\n\u001b[0;32m    478\u001b[0m \u001b[39mif\u001b[39;00m has_torch_function_unary(\u001b[39mself\u001b[39m):\n\u001b[0;32m    479\u001b[0m     \u001b[39mreturn\u001b[39;00m handle_torch_function(\n\u001b[0;32m    480\u001b[0m         Tensor\u001b[39m.\u001b[39mbackward,\n\u001b[0;32m    481\u001b[0m         (\u001b[39mself\u001b[39m,),\n\u001b[1;32m   (...)\u001b[0m\n\u001b[0;32m    486\u001b[0m         inputs\u001b[39m=\u001b[39minputs,\n\u001b[0;32m    487\u001b[0m     )\n\u001b[1;32m--> 488\u001b[0m torch\u001b[39m.\u001b[39;49mautograd\u001b[39m.\u001b[39;49mbackward(\n\u001b[0;32m    489\u001b[0m     \u001b[39mself\u001b[39;49m, gradient, retain_graph, create_graph, inputs\u001b[39m=\u001b[39;49minputs\n\u001b[0;32m    490\u001b[0m )\n",
      "File \u001b[1;32mc:\\code\\deep-learning-v2-pytorch\\.venv\\lib\\site-packages\\torch\\autograd\\__init__.py:197\u001b[0m, in \u001b[0;36mbackward\u001b[1;34m(tensors, grad_tensors, retain_graph, create_graph, grad_variables, inputs)\u001b[0m\n\u001b[0;32m    192\u001b[0m     retain_graph \u001b[39m=\u001b[39m create_graph\n\u001b[0;32m    194\u001b[0m \u001b[39m# The reason we repeat same the comment below is that\u001b[39;00m\n\u001b[0;32m    195\u001b[0m \u001b[39m# some Python versions print out the first line of a multi-line function\u001b[39;00m\n\u001b[0;32m    196\u001b[0m \u001b[39m# calls in the traceback and some print out the last line\u001b[39;00m\n\u001b[1;32m--> 197\u001b[0m Variable\u001b[39m.\u001b[39;49m_execution_engine\u001b[39m.\u001b[39;49mrun_backward(  \u001b[39m# Calls into the C++ engine to run the backward pass\u001b[39;49;00m\n\u001b[0;32m    198\u001b[0m     tensors, grad_tensors_, retain_graph, create_graph, inputs,\n\u001b[0;32m    199\u001b[0m     allow_unreachable\u001b[39m=\u001b[39;49m\u001b[39mTrue\u001b[39;49;00m, accumulate_grad\u001b[39m=\u001b[39;49m\u001b[39mTrue\u001b[39;49;00m)\n",
      "\u001b[1;31mKeyboardInterrupt\u001b[0m: "
     ]
    }
   ],
   "source": [
    "batch_size = 128\n",
    "seq_length = 100\n",
    "n_epochs = 20 # start small if you are just testing initial behavior\n",
    "\n",
    "# train the model\n",
    "train(net, encoded, epochs=n_epochs, batch_size=batch_size, seq_length=seq_length, lr=0.001, print_every=10)"
   ]
  },
  {
   "cell_type": "markdown",
   "metadata": {},
   "source": [
    "## Getting the best model\n",
    "\n",
    "To set your hyperparameters to get the best performance, you'll want to watch the training and validation losses. If your training loss is much lower than the validation loss, you're overfitting. Increase regularization (more dropout) or use a smaller network. If the training and validation losses are close, you're underfitting so you can increase the size of the network."
   ]
  },
  {
   "cell_type": "markdown",
   "metadata": {},
   "source": [
    "## Hyperparameters\n",
    "\n",
    "Here are the hyperparameters for the network.\n",
    "\n",
    "In defining the model:\n",
    "* `n_hidden` - The number of units in the hidden layers.\n",
    "* `n_layers` - Number of hidden LSTM layers to use.\n",
    "\n",
    "We assume that dropout probability and learning rate will be kept at the default, in this example.\n",
    "\n",
    "And in training:\n",
    "* `batch_size` - Number of sequences running through the network in one pass.\n",
    "* `seq_length` - Number of characters in the sequence the network is trained on. Larger is better typically, the network will learn more long range dependencies. But it takes longer to train. 100 is typically a good number here.\n",
    "* `lr` - Learning rate for training\n",
    "\n",
    "Here's some good advice from Andrej Karpathy on training the network. I'm going to copy it in here for your benefit, but also link to [where it originally came from](https://github.com/karpathy/char-rnn#tips-and-tricks).\n",
    "\n",
    "> ## Tips and Tricks\n",
    "\n",
    ">### Monitoring Validation Loss vs. Training Loss\n",
    ">If you're somewhat new to Machine Learning or Neural Networks it can take a bit of expertise to get good models. The most important quantity to keep track of is the difference between your training loss (printed during training) and the validation loss (printed once in a while when the RNN is run on the validation data (by default every 1000 iterations)). In particular:\n",
    "\n",
    "> - If your training loss is much lower than validation loss then this means the network might be **overfitting**. Solutions to this are to decrease your network size, or to increase dropout. For example you could try dropout of 0.5 and so on.\n",
    "> - If your training/validation loss are about equal then your model is **underfitting**. Increase the size of your model (either number of layers or the raw number of neurons per layer)\n",
    "\n",
    "> ### Approximate number of parameters\n",
    "\n",
    "> The two most important parameters that control the model are `n_hidden` and `n_layers`. I would advise that you always use `n_layers` of either 2/3. The `n_hidden` can be adjusted based on how much data you have. The two important quantities to keep track of here are:\n",
    "\n",
    "> - The number of parameters in your model. This is printed when you start training.\n",
    "> - The size of your dataset. 1MB file is approximately 1 million characters.\n",
    "\n",
    ">These two should be about the same order of magnitude. It's a little tricky to tell. Here are some examples:\n",
    "\n",
    "> - I have a 100MB dataset and I'm using the default parameter settings (which currently print 150K parameters). My data size is significantly larger (100 mil >> 0.15 mil), so I expect to heavily underfit. I am thinking I can comfortably afford to make `n_hidden` larger.\n",
    "> - I have a 10MB dataset and running a 10 million parameter model. I'm slightly nervous and I'm carefully monitoring my validation loss. If it's larger than my training loss then I may want to try to increase dropout a bit and see if that helps the validation loss.\n",
    "\n",
    "> ### Best models strategy\n",
    "\n",
    ">The winning strategy to obtaining very good models (if you have the compute time) is to always err on making the network larger (as large as you're willing to wait for it to compute) and then try different dropout values (between 0,1). Whatever model has the best validation performance (the loss, written in the checkpoint filename, low is good) is the one you should use in the end.\n",
    "\n",
    ">It is very common in deep learning to run many different models with many different hyperparameter settings, and in the end take whatever checkpoint gave the best validation performance.\n",
    "\n",
    ">By the way, the size of your training and validation splits are also parameters. Make sure you have a decent amount of data in your validation set or otherwise the validation performance will be noisy and not very informative."
   ]
  },
  {
   "cell_type": "markdown",
   "metadata": {},
   "source": [
    "## Checkpoint\n",
    "\n",
    "After training, we'll save the model so we can load it again later if we need too. Here I'm saving the parameters needed to create the same architecture, the hidden layer hyperparameters and the text characters."
   ]
  },
  {
   "cell_type": "code",
   "execution_count": 24,
   "metadata": {
    "collapsed": true
   },
   "outputs": [],
   "source": [
    "# change the name, for saving multiple files\n",
    "model_name = 'rnn_40_epoch.net'\n",
    "\n",
    "checkpoint = {'n_hidden': net.n_hidden,\n",
    "              'n_layers': net.n_layers,\n",
    "              'state_dict': net.state_dict(),\n",
    "              'tokens': net.chars}\n",
    "\n",
    "with open(model_name, 'wb') as f:\n",
    "    torch.save(checkpoint, f)"
   ]
  },
  {
   "cell_type": "markdown",
   "metadata": {},
   "source": [
    "---\n",
    "## Making Predictions\n",
    "\n",
    "Now that the model is trained, we'll want to sample from it and make predictions about next characters! To sample, we pass in a character and have the network predict the next character. Then we take that character, pass it back in, and get another predicted character. Just keep doing this and you'll generate a bunch of text!\n",
    "\n",
    "### A note on the `predict`  function\n",
    "\n",
    "The output of our RNN is from a fully-connected layer and it outputs a **distribution of next-character scores**.\n",
    "\n",
    "> To actually get the next character, we apply a softmax function, which gives us a *probability* distribution that we can then sample to predict the next character.\n",
    "\n",
    "### Top K sampling\n",
    "\n",
    "Our predictions come from a categorical probability distribution over all the possible characters. We can make the sample text and make it more reasonable to handle (with less variables) by only considering some $K$ most probable characters. This will prevent the network from giving us completely absurd characters while allowing it to introduce some noise and randomness into the sampled text. Read more about [topk, here](https://pytorch.org/docs/stable/torch.html#torch.topk).\n"
   ]
  },
  {
   "cell_type": "code",
   "execution_count": 25,
   "metadata": {
    "collapsed": true
   },
   "outputs": [],
   "source": [
    "def predict(net, char, h=None, top_k=None):\n",
    "        ''' Given a character, predict the next character.\n",
    "            Returns the predicted character and the hidden state.\n",
    "        '''\n",
    "        \n",
    "        # tensor inputs\n",
    "        x = np.array([[net.char2int[char]]])\n",
    "        x = one_hot_encode(x, len(net.chars))\n",
    "        inputs = torch.from_numpy(x)\n",
    "        \n",
    "        if(train_on_gpu):\n",
    "            inputs = inputs.cuda()\n",
    "        \n",
    "        # detach hidden state from history\n",
    "        h = tuple([each.data for each in h])\n",
    "        # get the output of the model\n",
    "        out, h = net(inputs, h)\n",
    "\n",
    "        # get the character probabilities\n",
    "        p = F.softmax(out, dim=1).data\n",
    "        if(train_on_gpu):\n",
    "            p = p.cpu() # move to cpu\n",
    "        \n",
    "        # get top characters\n",
    "        if top_k is None:\n",
    "            top_ch = np.arange(len(net.chars))\n",
    "        else:\n",
    "            p, top_ch = p.topk(top_k)\n",
    "            top_ch = top_ch.numpy().squeeze()\n",
    "        \n",
    "        # select the likely next character with some element of randomness\n",
    "        p = p.numpy().squeeze()\n",
    "        char = np.random.choice(top_ch, p=p/p.sum())\n",
    "        \n",
    "        # return the encoded value of the predicted char and the hidden state\n",
    "        return net.int2char[char], h"
   ]
  },
  {
   "cell_type": "markdown",
   "metadata": {},
   "source": [
    "### Priming and generating text \n",
    "\n",
    "Typically you'll want to prime the network so you can build up a hidden state. Otherwise the network will start out generating characters at random. In general the first bunch of characters will be a little rough since it hasn't built up a long history of characters to predict from."
   ]
  },
  {
   "cell_type": "code",
   "execution_count": 26,
   "metadata": {
    "collapsed": true
   },
   "outputs": [],
   "source": [
    "def sample(net, size, prime='The', top_k=None):\n",
    "        \n",
    "    if(train_on_gpu):\n",
    "        net.cuda()\n",
    "    else:\n",
    "        net.cpu()\n",
    "    \n",
    "    net.eval() # eval mode\n",
    "    \n",
    "    # First off, run through the prime characters\n",
    "    chars = [ch for ch in prime]\n",
    "    h = net.init_hidden(1)\n",
    "    for ch in prime:\n",
    "        char, h = predict(net, ch, h, top_k=top_k)\n",
    "\n",
    "    chars.append(char)\n",
    "    \n",
    "    # Now pass in the previous character and get a new one\n",
    "    for ii in range(size):\n",
    "        char, h = predict(net, chars[-1], h, top_k=top_k)\n",
    "        chars.append(char)\n",
    "\n",
    "    return ''.join(chars)"
   ]
  },
  {
   "cell_type": "code",
   "execution_count": 27,
   "metadata": {},
   "outputs": [
    {
     "name": "stdout",
     "output_type": "stream",
     "text": [
      "Anna Anna.\n",
      "\n",
      "Anna did not come, and he set her some despair, taking her face, taking his face, and\n",
      "he did not concent the position of his porter, and had not seeing her something as an uniform was\n",
      "at first a party or new. But still she felt that it is to his\n",
      "mother's faculty or something success; but to see that there was\n",
      "a dreaping summer and sorts, was a subject, as he completely\n",
      "succeeded, and so in with such a complaced steps from standing at their sisters and\n",
      "was, as it were, they had not been in the steps strike in the face, and thinking of the pretty of meadow, which had not been\n",
      "all the summer than ever that she saw how to do anything to hold out the\n",
      "stabbelons with the rooms.\n",
      "\n",
      "\"I was suffer to tell you and that you're seriously....\"\n",
      "\n",
      "\"Yes. I've been talking about the position of matter together, and then to\n",
      "brame mides about his wife's behavior, and I can't be at people that he can go, and\n",
      "thinking of my line, in a conviction of the sick man. If seeing that I\n",
      "have to see her to spea\n"
     ]
    }
   ],
   "source": [
    "print(sample(net, 1000, prime='Anna', top_k=5))"
   ]
  },
  {
   "cell_type": "code",
   "execution_count": 20,
   "metadata": {
    "collapsed": true
   },
   "outputs": [
    {
     "name": "stdout",
     "output_type": "stream",
     "text": [
      "Anna came in. He's a few handsome and toot\n",
      "off, and seeing\n",
      "her. He did\n",
      "not go to the right that he could not go away, that he was talking of altogether. But in a\n",
      "peasant, with\n",
      "how to be for a drew now he was\n",
      "never comprehend.\n",
      "\n",
      "\"I suppose I can't be an end or would be saying. And I have\n",
      "been thinking of\n",
      "all the looking at the point is to the celebration. That's to see her and me to say it,\" answered Seryozha toothing what he said to the poor and persons at the mind at the\n",
      "meminitatic strained one and time for him.\n",
      "\n",
      "\"Why, you must be going all trying to take to her.\"\n",
      "\n",
      "\"What? I sens the matter is true.\"\n",
      "\n",
      "\"Yes; I didn't say that he's a family in the\n",
      "princess,\n",
      "so that there's no really done, that\n",
      "she don't come, and well my\n",
      "perfect of me,\n",
      "I'm a capility, of people and meaning\n",
      "to say that I can't\n",
      "help yourself or some dinner. He can\n",
      "save me to be so much the old man me time. And what do you think? What are you talking to the man seet a man, wihn a mistake me to tell you?\"\n",
      "\n",
      "\"Well, when your exampl\n"
     ]
    }
   ],
   "source": [
    "print(sample(net, 1000, prime='Anna', top_k=5))"
   ]
  },
  {
   "cell_type": "code",
   "execution_count": 28,
   "metadata": {},
   "outputs": [
    {
     "name": "stdout",
     "output_type": "stream",
     "text": [
      "Zorrapor, he cannot\n",
      "be at point and hearing that he came out her face. And what he was saying anything, so\n",
      "suffering what is for the marsh on the familior\n",
      "sense that the same staring some difficulty a crimicl standed at the sick man's drew, and a\n",
      "great deal of an instant of proposed towards the church the coachman. She saw\n",
      "that they were not to be to say, and the sease, in her eyes, the same to sell-held out a station of\n",
      "her love, but her son which was so standing at the benchant was simply borrow, and\n",
      "so asked to the barrier that she had told her and then in his face, and who was at home\n",
      "and the children she kissed him through her arms begun his brilliant capital, he had\n",
      "not been talking; and the old person she could not get his subject,\n",
      "was surrounding her for him. She drew up in his study on the first, she stopped, as he\n",
      "caught his hand with that habitual face with a feeling\n",
      "finally to blame for him, and as something suffering a carriage of agonous smile.\n",
      "\n",
      "\"Well,\n",
      "what do you tell you?\n"
     ]
    }
   ],
   "source": [
    "print(sample(net, 1000, prime='Z', top_k=5))"
   ]
  },
  {
   "cell_type": "markdown",
   "metadata": {},
   "source": [
    "## Loading a checkpoint"
   ]
  },
  {
   "cell_type": "code",
   "execution_count": 21,
   "metadata": {
    "collapsed": true
   },
   "outputs": [
    {
     "data": {
      "text/plain": [
       "<All keys matched successfully>"
      ]
     },
     "execution_count": 21,
     "metadata": {},
     "output_type": "execute_result"
    }
   ],
   "source": [
    "# Here we have loaded in a model that trained over 20 epochs `rnn_20_epoch.net`\n",
    "with open('rnn_x_epoch.net', 'rb') as f:\n",
    "    checkpoint = torch.load(f)\n",
    "    \n",
    "loaded = CharRNN(checkpoint['tokens'], n_hidden=checkpoint['n_hidden'], n_layers=checkpoint['n_layers'])\n",
    "loaded.load_state_dict(checkpoint['state_dict'])"
   ]
  },
  {
   "cell_type": "code",
   "execution_count": 22,
   "metadata": {
    "collapsed": true
   },
   "outputs": [
    {
     "name": "stdout",
     "output_type": "stream",
     "text": [
      "And Levin said this fact that she\n",
      "walked to\n",
      "the pain from the\n",
      "courie. She had not\n",
      "refeering to a frow which\n",
      "chain of the room. How still he was need to tea, as he should notice her mother sat down at his house to him with him at their strengs. She saw him. The\n",
      "peasants of his head sently, took his eyes and struggling was there.\n",
      "\n",
      "\"Ah! it's standing me!\"\n",
      "\n",
      "\"On, no, it's not surpering, I darling, and I should be study to him, it were, and that he is\n",
      "so long me..... But\n",
      "this is she was saying anything as you've, and so that I am all down to his mounds, talk of it, but is truth, one and have an elections in\n",
      "the words and means to\n",
      "say her.\n",
      "Well my samplement was in\n",
      "success.\n",
      "Why is it! I am very well, I'm very gentlemen.\"\n",
      "\n",
      "The sound he had seen a plainticated face of station of herself. All the same distinct of the chair,\n",
      "and the old lady were clothing,\n",
      "his bent directly astrictly, and\n",
      "had been talking\n",
      "at one tingion and happened as standing at their family, but she was, as still means of discertain of her heart and with word with\n",
      "suck of\n",
      "a children, and\n",
      "something was standing and stopt on the moments that he\n",
      "had talked to Levin. And in the portrait\n",
      "talk of the sounds of\n",
      "herself, his shoulders attempt and her left. And in the\n",
      "day boots when he had not spent the ready and taking up his wife. The\n",
      "countess said to his solows, and this was still in the\n",
      "morning, all one of the\n",
      "morning. An answer and some rester was so subsurbest\n",
      "and her soul, and satisfeetly writing to the matter, with the sate that she sat in their hand, and at a single starmed waist of the point to spend.\n",
      "\n",
      "\"You know how he would you,\" said Levin, looking on a capital, and his boudown who had been taking off the peasant who had brought her\n",
      "silent to the most carriage was the best.\n",
      "\n",
      "The same time the measure, after surriedly the crite, still more fashionable attitude to the marsh.\n",
      "\n",
      "\"Ah, I have been thought much, and how change it's no one of me. And there is it is a continual\n",
      "tall that is the offication of the calm, waited, an\n"
     ]
    }
   ],
   "source": [
    "# Sample using a loaded model\n",
    "print(sample(loaded, 2000, top_k=5, prime=\"And Levin said\"))"
   ]
  },
  {
   "cell_type": "code",
   "execution_count": null,
   "metadata": {
    "collapsed": true
   },
   "outputs": [],
   "source": []
  }
 ],
 "metadata": {
  "kernelspec": {
   "display_name": ".venv",
   "language": "python",
   "name": "python3"
  },
  "language_info": {
   "codemirror_mode": {
    "name": "ipython",
    "version": 3
   },
   "file_extension": ".py",
   "mimetype": "text/x-python",
   "name": "python",
   "nbconvert_exporter": "python",
   "pygments_lexer": "ipython3",
   "version": "3.10.5"
  },
  "vscode": {
   "interpreter": {
    "hash": "7d01e4b1a97f80ee94d988e64c5cab966144d8790c5135633cfba94ca4385745"
   }
  }
 },
 "nbformat": 4,
 "nbformat_minor": 2
}
